{
  "nbformat": 4,
  "nbformat_minor": 0,
  "metadata": {
    "colab": {
      "name": "tutorias ejercicios 11-8-2021.ipynb",
      "provenance": [],
      "collapsed_sections": []
    },
    "kernelspec": {
      "name": "python3",
      "display_name": "Python 3"
    },
    "language_info": {
      "name": "python"
    }
  },
  "cells": [
    {
      "cell_type": "markdown",
      "metadata": {
        "id": "i78W02Nls5AN"
      },
      "source": [
        "***sumar todos los elementos de una matriz***"
      ]
    },
    {
      "cell_type": "code",
      "metadata": {
        "colab": {
          "base_uri": "https://localhost:8080/"
        },
        "id": "5kYsT4PSsyf2",
        "outputId": "b2340c1b-ffd1-4d1f-a6fc-98d7ed8c7099"
      },
      "source": [
        "import numpy as np\n",
        "x=np.array([[2,7,9],[3,2,4],[8,11,10]])\n",
        "z=np.sum(x)\n",
        "print(x)\n",
        "print('la suma de sus elementos es: ', z)"
      ],
      "execution_count": null,
      "outputs": [
        {
          "output_type": "stream",
          "text": [
            "[[ 2  7  9]\n",
            " [ 3  2  4]\n",
            " [ 8 11 10]]\n",
            "la suma de sus elementos es:  56\n"
          ],
          "name": "stdout"
        }
      ]
    },
    {
      "cell_type": "markdown",
      "metadata": {
        "id": "w7eA7WaBwGV5"
      },
      "source": [
        "***cree un objeto ndarray unidimensional con una longitud de 10 y todos 0, luego haga que el quinto elemento sea igual a 1***"
      ]
    },
    {
      "cell_type": "code",
      "metadata": {
        "colab": {
          "base_uri": "https://localhost:8080/"
        },
        "id": "oSMfSfwqwP9P",
        "outputId": "810dd86c-f711-400d-a60b-47d9a6588a28"
      },
      "source": [
        "import numpy as np\n",
        "x=np.zeros((1,10))\n",
        "x[0,4]=1\n",
        "print(x)"
      ],
      "execution_count": null,
      "outputs": [
        {
          "output_type": "stream",
          "text": [
            "[[0. 0. 0. 0. 1. 0. 0. 0. 0. 0.]]\n"
          ],
          "name": "stdout"
        }
      ]
    },
    {
      "cell_type": "markdown",
      "metadata": {
        "id": "vL5n8jWUw1D0"
      },
      "source": [
        "***convertir en una lista python en un arreglo tipo numpy***"
      ]
    },
    {
      "cell_type": "code",
      "metadata": {
        "colab": {
          "base_uri": "https://localhost:8080/"
        },
        "id": "1JrwXpOMw9nh",
        "outputId": "b0c49019-ddd5-47e2-d0e9-b481c1bc943e"
      },
      "source": [
        "import numpy as np\n",
        "lista=[1,2,3,4,5,6]\n",
        "print(type(lista))\n",
        "print(lista)\n",
        "arreglo=np.array(lista)\n",
        "print(type(arreglo))\n",
        "print(arreglo)"
      ],
      "execution_count": null,
      "outputs": [
        {
          "output_type": "stream",
          "text": [
            "<class 'list'>\n",
            "[1, 2, 3, 4, 5, 6]\n",
            "<class 'numpy.ndarray'>\n",
            "[1 2 3 4 5 6]\n"
          ],
          "name": "stdout"
        }
      ]
    }
  ]
}
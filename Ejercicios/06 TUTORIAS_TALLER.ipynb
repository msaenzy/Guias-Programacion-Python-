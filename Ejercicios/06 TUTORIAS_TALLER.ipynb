{
  "nbformat": 4,
  "nbformat_minor": 0,
  "metadata": {
    "colab": {
      "name": "TUTORIAS TALLER.ipynb",
      "provenance": []
    },
    "kernelspec": {
      "name": "python3",
      "display_name": "Python 3"
    },
    "language_info": {
      "name": "python"
    }
  },
  "cells": [
    {
      "cell_type": "markdown",
      "metadata": {
        "id": "AaX3MZC7nv3Q"
      },
      "source": [
        "***Pide dos cadenas por teclado, muestra ambas cadenas con un\n",
        "espacio entre ellas y con los 2 primeros caracteres\n",
        "intercambiados. Por ejemplo, hola mundo pasaría a mula hondo***"
      ]
    },
    {
      "cell_type": "code",
      "metadata": {
        "colab": {
          "base_uri": "https://localhost:8080/"
        },
        "id": "WWS0M3ZHoNxh",
        "outputId": "ae9abd8a-60e1-49bb-eb5d-1a4c02c96f40"
      },
      "source": [
        "cadena1=input('ingresa la primera cadena: ')\n",
        "cadena2=input('ingresa la segunda cadena: ')\n",
        "print(cadena2[:2]+cadena1[2:]+ ' ' +cadena1[:2]+cadena2[2:])"
      ],
      "execution_count": null,
      "outputs": [
        {
          "output_type": "stream",
          "text": [
            "ingresa la primera cadena: hola\n",
            "ingresa la segunda cadena: mundo\n",
            "mula hondo\n"
          ],
          "name": "stdout"
        }
      ]
    },
    {
      "cell_type": "markdown",
      "metadata": {
        "id": "b4QslBKurF7D"
      },
      "source": [
        "***Juguemos al juego de adivinar el numero, generaremos un\n",
        "número entre 1 y 100. Nuestro objetivo es adivinar el número. Si\n",
        "fallamos nos dirán si es mayor o menor que el número buscado.\n",
        "También poner el número de intentos requeridos.***"
      ]
    },
    {
      "cell_type": "code",
      "metadata": {
        "colab": {
          "base_uri": "https://localhost:8080/"
        },
        "id": "DlYJGLp4rQg6",
        "outputId": "d04ca9a9-0c11-45c3-c849-05e9dbbdf612"
      },
      "source": [
        "import random\n",
        "intentos=1\n",
        "num_og= random.randint(1,100)\n",
        "\n",
        "#print(num_og) #solo era para ver si la respuesta concoordaba \n",
        "while intentos: #puede poner <3: #tiene 3 intentos,esto se puede cambiar\n",
        "  numero_insertado=int(input('adivine el numero que genera el juego '))\n",
        "  if numero_insertado==num_og:\n",
        "    print('es el numero correcto')\n",
        "    break  #cuando encuentra el numero correcto rompe el ciclo\n",
        "  else:\n",
        "    if numero_insertado<num_og:\n",
        "      print('buscas un numero mayor')\n",
        "    else:\n",
        "        print('buscas un numero menor')\n",
        "        \n",
        "    intentos=intentos+1\n",
        "    \n",
        "print('fin, le tomó', intentos, ', intentos encontrar la respuesta')\n"
      ],
      "execution_count": null,
      "outputs": [
        {
          "output_type": "stream",
          "text": [
            "adivine el numero que genera el juego 99\n",
            "buscas un numero menor\n",
            "adivine el numero que genera el juego 10\n",
            "buscas un numero mayor\n",
            "adivine el numero que genera el juego 20\n",
            "buscas un numero mayor\n",
            "adivine el numero que genera el juego 30\n",
            "buscas un numero menor\n",
            "adivine el numero que genera el juego 29\n",
            "buscas un numero menor\n",
            "adivine el numero que genera el juego 28\n",
            "es el numero correcto\n",
            "fin, le tomó 6 , intentos encontrar la respuesta\n"
          ],
          "name": "stdout"
        }
      ]
    },
    {
      "cell_type": "markdown",
      "metadata": {
        "id": "EmbbCtx54aiM"
      },
      "source": [
        "***Generar un rango de 0 a 10 y de 15 a 20, incluidos el 10 y 20***"
      ]
    },
    {
      "cell_type": "code",
      "metadata": {
        "colab": {
          "base_uri": "https://localhost:8080/"
        },
        "id": "cQoLerW64f5s",
        "outputId": "98ead64a-345b-4d73-80a1-0821d492508e"
      },
      "source": [
        "for i in range(11):\n",
        "  print(i)\n",
        "for i in range(15,21):\n",
        "  print(i)"
      ],
      "execution_count": null,
      "outputs": [
        {
          "output_type": "stream",
          "text": [
            "0\n",
            "1\n",
            "2\n",
            "3\n",
            "4\n",
            "5\n",
            "6\n",
            "7\n",
            "8\n",
            "9\n",
            "10\n",
            "15\n",
            "16\n",
            "17\n",
            "18\n",
            "19\n",
            "20\n"
          ],
          "name": "stdout"
        }
      ]
    },
    {
      "cell_type": "code",
      "metadata": {
        "id": "JVDX1SVH-POZ"
      },
      "source": [
        ""
      ],
      "execution_count": null,
      "outputs": []
    }
  ]
}
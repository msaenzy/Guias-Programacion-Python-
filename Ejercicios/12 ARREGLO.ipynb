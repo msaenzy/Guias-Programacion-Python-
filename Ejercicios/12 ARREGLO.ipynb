{
  "nbformat": 4,
  "nbformat_minor": 0,
  "metadata": {
    "colab": {
      "name": "ARREGLO.ipynb",
      "provenance": []
    },
    "kernelspec": {
      "name": "python3",
      "display_name": "Python 3"
    },
    "language_info": {
      "name": "python"
    }
  },
  "cells": [
    {
      "cell_type": "code",
      "metadata": {
        "id": "NaeUzGJ744Li"
      },
      "source": [
        "#Generar un arreglo  arr1 con 30 números que vayan del 6 al 20 (30 elementos). \n",
        "#Obtenga el promedio de los elementos del arreglo arr1. \n",
        "#Generar una matriz mat1 de 4 filas y 4 columnas llenada con el valor que resultó del promedio del arreglo arr1. \n",
        "#Sume los elementos de mat1\n",
        "#Seleccione la respuesta correcta que da la suma"
      ],
      "execution_count": null,
      "outputs": []
    },
    {
      "cell_type": "code",
      "metadata": {
        "colab": {
          "base_uri": "https://localhost:8080/"
        },
        "id": "_htktNN448wa",
        "outputId": "4df2193e-995c-4da3-f195-aeceaecbe552"
      },
      "source": [
        "import numpy as np\n",
        "arr1=np.linspace(6,20,30) # el ultimo valor es el numero de elementos que se requieren\n",
        "print(arr1)\n",
        "promedio=arr1.mean()\n",
        "print('el promedio es: ', promedio)\n",
        "mat1=np.full((4,4),promedio)\n",
        "print('Generar una matriz mat1 de 4 filas y 4 columnas llenada con el valor que resultó del promedio del arreglo')\n",
        "print(mat1)\n",
        "suma=np.sum(mat1)\n",
        "print('Sume los elementos de mat1')\n",
        "print(suma)"
      ],
      "execution_count": null,
      "outputs": [
        {
          "output_type": "stream",
          "name": "stdout",
          "text": [
            "[ 6.          6.48275862  6.96551724  7.44827586  7.93103448  8.4137931\n",
            "  8.89655172  9.37931034  9.86206897 10.34482759 10.82758621 11.31034483\n",
            " 11.79310345 12.27586207 12.75862069 13.24137931 13.72413793 14.20689655\n",
            " 14.68965517 15.17241379 15.65517241 16.13793103 16.62068966 17.10344828\n",
            " 17.5862069  18.06896552 18.55172414 19.03448276 19.51724138 20.        ]\n",
            "el promedio es:  13.000000000000002\n",
            "Generar una matriz mat1 de 4 filas y 4 columnas llenada con el valor que resultó del promedio del arreglo\n",
            "[[13. 13. 13. 13.]\n",
            " [13. 13. 13. 13.]\n",
            " [13. 13. 13. 13.]\n",
            " [13. 13. 13. 13.]]\n",
            "Sume los elementos de mat1\n",
            "208.00000000000003\n"
          ]
        }
      ]
    }
  ]
}
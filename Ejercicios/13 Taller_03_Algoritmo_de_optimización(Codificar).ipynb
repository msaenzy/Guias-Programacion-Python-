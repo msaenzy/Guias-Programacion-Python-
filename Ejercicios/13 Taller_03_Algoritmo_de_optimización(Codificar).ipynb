{
  "nbformat": 4,
  "nbformat_minor": 0,
  "metadata": {
    "colab": {
      "name": "Taller 03. Algoritmo de optimización(Codificar).ipynb",
      "provenance": []
    },
    "kernelspec": {
      "name": "python3",
      "display_name": "Python 3"
    },
    "language_info": {
      "name": "python"
    }
  },
  "cells": [
    {
      "cell_type": "markdown",
      "source": [
        "***Nombre: María Fernanda Sáenz Yerovi***\n",
        "\n",
        "***Taller 03. Algoritmo de optimización(Codificar)***"
      ],
      "metadata": {
        "id": "DbC1irUD01RP"
      }
    },
    {
      "cell_type": "code",
      "execution_count": null,
      "metadata": {
        "colab": {
          "base_uri": "https://localhost:8080/"
        },
        "id": "hEiULWqgvuCd",
        "outputId": "662321d5-36b0-46f1-e575-48c41dcc9128"
      },
      "outputs": [
        {
          "output_type": "stream",
          "name": "stdout",
          "text": [
            "Ingresa el valor de cantidad de euros: 32\n",
            "Valor de billetes de 10: 1\n",
            "Valor de billetes de 100: 0\n",
            "Valor de billetes de 20: 1\n",
            "Valor de billetes de 200: 0\n",
            "Valor de billetes de 5: 0\n",
            "Valor de billetes de 50: 0\n",
            "Valor de billetes de 500: 0\n",
            "Valor de monedas de 1: 0\n",
            "Valor de monedas de 2: 1\n",
            "\n"
          ]
        }
      ],
      "source": [
        "import os\n",
        "\n",
        "cantidad_de_euros = int (input ('Ingresa el valor de cantidad de euros: '))\n",
        "monedas_de_1=cantidad_de_euros\n",
        "billetes_de_500=(monedas_de_1-monedas_de_1%500)//500\n",
        "monedas_de_1=monedas_de_1%500\n",
        "billetes_de_200=(monedas_de_1-monedas_de_1%200)//200\n",
        "monedas_de_1=monedas_de_1%200\n",
        "billetes_de_100=(monedas_de_1-monedas_de_1%100)//100\n",
        "monedas_de_1=monedas_de_1%100\n",
        "billetes_de_50=(monedas_de_1-monedas_de_1%50)//50\n",
        "monedas_de_1=monedas_de_1%50\n",
        "billetes_de_20=(monedas_de_1-monedas_de_1%20)//20\n",
        "monedas_de_1=monedas_de_1%20\n",
        "billetes_de_10=(monedas_de_1-monedas_de_1%10)//10\n",
        "monedas_de_1=monedas_de_1%10\n",
        "billetes_de_5=(monedas_de_1-monedas_de_1%5)//5\n",
        "monedas_de_1=monedas_de_1%5\n",
        "monedas_de_2=(monedas_de_1-monedas_de_1%2)//2\n",
        "monedas_de_1=monedas_de_1%2\n",
        "print ('Valor de billetes de 10: ' + repr (billetes_de_10))\n",
        "print ('Valor de billetes de 100: ' + repr (billetes_de_100))\n",
        "print ('Valor de billetes de 20: ' + repr (billetes_de_20))\n",
        "print ('Valor de billetes de 200: ' + repr (billetes_de_200))\n",
        "print ('Valor de billetes de 5: ' + repr (billetes_de_5))\n",
        "print ('Valor de billetes de 50: ' + repr (billetes_de_50))\n",
        "print ('Valor de billetes de 500: ' + repr (billetes_de_500))\n",
        "print ('Valor de monedas de 1: ' + repr (monedas_de_1))\n",
        "print ('Valor de monedas de 2: ' + repr (monedas_de_2))\n",
        "print ()\n"
      ]
    }
  ]
}
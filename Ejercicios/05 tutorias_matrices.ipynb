{
  "nbformat": 4,
  "nbformat_minor": 0,
  "metadata": {
    "colab": {
      "name": "tutorias matrices.ipynb",
      "provenance": [],
      "collapsed_sections": []
    },
    "kernelspec": {
      "name": "python3",
      "display_name": "Python 3"
    },
    "language_info": {
      "name": "python"
    }
  },
  "cells": [
    {
      "cell_type": "code",
      "metadata": {
        "colab": {
          "base_uri": "https://localhost:8080/"
        },
        "id": "kkv79vVYh5u6",
        "outputId": "d525e756-0348-4bdf-d144-105bd84c673f"
      },
      "source": [
        "import numpy as np\n",
        "\n",
        "ajedrez = np.zeros((8,8), dtype=int)\n",
        "ajedrez[::2, 1::2]=1 #todas las filas con saltos de 2 en 2\n",
        "                        #y que tome a partir de la columna 1\n",
        "                        #hasta el final con saltos de 2 en 2\n",
        "\n",
        "print(ajedrez)\n",
        "\n",
        "ajedrez[1::2, ::2]=1 #a partir de la primera fila con saltos de\n",
        "                        # 2 en 2 y ademas para columnas pares que asigne 1\n",
        "print(ajedrez)"
      ],
      "execution_count": null,
      "outputs": [
        {
          "output_type": "stream",
          "text": [
            "[[0 1 0 1 0 1 0 1]\n",
            " [0 0 0 0 0 0 0 0]\n",
            " [0 1 0 1 0 1 0 1]\n",
            " [0 0 0 0 0 0 0 0]\n",
            " [0 1 0 1 0 1 0 1]\n",
            " [0 0 0 0 0 0 0 0]\n",
            " [0 1 0 1 0 1 0 1]\n",
            " [0 0 0 0 0 0 0 0]]\n",
            "[[0 1 0 1 0 1 0 1]\n",
            " [1 0 1 0 1 0 1 0]\n",
            " [0 1 0 1 0 1 0 1]\n",
            " [1 0 1 0 1 0 1 0]\n",
            " [0 1 0 1 0 1 0 1]\n",
            " [1 0 1 0 1 0 1 0]\n",
            " [0 1 0 1 0 1 0 1]\n",
            " [1 0 1 0 1 0 1 0]]\n"
          ],
          "name": "stdout"
        }
      ]
    },
    {
      "cell_type": "code",
      "metadata": {
        "id": "8LNvwfmw7Mlo",
        "outputId": "5ff5f388-66c3-4649-b9df-7e2ff2cd7e0c",
        "colab": {
          "base_uri": "https://localhost:8080/"
        }
      },
      "source": [
        "import numpy as np\n",
        "arreglo1 = np.zeros(10)\n",
        "print(arreglo1)\n",
        "\n",
        "arreglo2 = np.ones(10)\n",
        "print(arreglo2)\n",
        "\n",
        "arreglo3=np.ones(10)*7\n",
        "\n",
        "print(arreglo3)"
      ],
      "execution_count": null,
      "outputs": [
        {
          "output_type": "stream",
          "text": [
            "[0. 0. 0. 0. 0. 0. 0. 0. 0. 0.]\n",
            "[1. 1. 1. 1. 1. 1. 1. 1. 1. 1.]\n",
            "[7. 7. 7. 7. 7. 7. 7. 7. 7. 7.]\n"
          ],
          "name": "stdout"
        }
      ]
    }
  ]
}
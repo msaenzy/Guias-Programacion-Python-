{
  "nbformat": 4,
  "nbformat_minor": 0,
  "metadata": {
    "colab": {
      "name": "ARMSTRONG DE 2 Y 4 DIGITOS.ipynb",
      "provenance": []
    },
    "kernelspec": {
      "name": "python3",
      "display_name": "Python 3"
    },
    "language_info": {
      "name": "python"
    }
  },
  "cells": [
    {
      "cell_type": "markdown",
      "source": [
        "DE 2 DIGITOS"
      ],
      "metadata": {
        "id": "cYCTT4NtDHLx"
      }
    },
    {
      "cell_type": "code",
      "metadata": {
        "id": "m1m44Z4EgGH9"
      },
      "source": [
        "import math\n",
        "for i in range(10,99) :\n",
        "  copi=i\n",
        "  u=copi %10\n",
        "  d= round(copi/10)\n",
        "  unir=u*u+d*d\n",
        "  if copi==unir:\n",
        "    print(copi, ' es un armstrong')"
      ],
      "execution_count": null,
      "outputs": []
    },
    {
      "cell_type": "markdown",
      "source": [
        "DE 4 DIGITOS\n"
      ],
      "metadata": {
        "id": "cDppVjxLDAxY"
      }
    },
    {
      "cell_type": "code",
      "source": [
        "import math\n",
        "for i in range(1000,9999) :\n",
        "  copi=i\n",
        "  u=copi %10\n",
        "  d= round(copi/10) %10\n",
        "  c= round(copi/100) %10\n",
        "  m= round(copi/1000)\n",
        "  unir=u*u*u*u+d*d*d*d+c*c*c*c+m*m*m*m\n",
        "  if unir==copi:\n",
        "    print(copi, ' es un armstrong')"
      ],
      "metadata": {
        "id": "ytxvSvV1DAN6"
      },
      "execution_count": null,
      "outputs": []
    }
  ]
}
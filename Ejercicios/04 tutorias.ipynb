{
  "nbformat": 4,
  "nbformat_minor": 0,
  "metadata": {
    "colab": {
      "name": "tutorias",
      "provenance": []
    },
    "kernelspec": {
      "name": "python3",
      "display_name": "Python 3"
    },
    "language_info": {
      "name": "python"
    }
  },
  "cells": [
    {
      "cell_type": "markdown",
      "metadata": {
        "id": "2dBDNXY6hu8X"
      },
      "source": [
        "division "
      ]
    },
    {
      "cell_type": "code",
      "metadata": {
        "colab": {
          "base_uri": "https://localhost:8080/"
        },
        "id": "95aPMvjLhS5V",
        "outputId": "ebea4efb-e6d3-4512-a3f8-27a89cf63ae6"
      },
      "source": [
        "print (\"ingrese un numero\")\n",
        "n=float(input())\n",
        "print (\"ingrese otro numero\")\n",
        "m=float(input())\n",
        "c=(n/m)\n",
        "r=n%m\n",
        "print (\"la division entre \", n , \"y\" ,m ,\",  da un cociente \", c,\" y un resto de \",r  )"
      ],
      "execution_count": null,
      "outputs": [
        {
          "output_type": "stream",
          "text": [
            "ingrese un numero\n",
            "26\n",
            "ingrese otro numero\n",
            "5\n",
            "la division entre  26.0 y 5.0 ,  da un cociente  5.2  y un resto de  1.0\n"
          ],
          "name": "stdout"
        }
      ]
    },
    {
      "cell_type": "markdown",
      "metadata": {
        "id": "dq6gGepUkKMF"
      },
      "source": [
        "km y litros"
      ]
    },
    {
      "cell_type": "code",
      "metadata": {
        "colab": {
          "base_uri": "https://localhost:8080/"
        },
        "id": "oEY2SOcQkFNU",
        "outputId": "04712924-ec06-4645-9f05-f080483c3e18"
      },
      "source": [
        "print (\"ingrese cantidad de km recorridos\")\n",
        "k=float(input())\n",
        "print (\"ingrese cantidad de litros de combustible que consumió\")\n",
        "l=float(input())\n",
        "r=k/l\n",
        "print (\"consumo de combustible por kilometro es \", r)"
      ],
      "execution_count": null,
      "outputs": [
        {
          "output_type": "stream",
          "text": [
            "ingrese cantidad de km recorridos\n",
            "200\n",
            "ingrese cantidad de litros de combustible que consumió\n",
            "60\n",
            "consumo de combustible por kilometro es  3.3333333333333335\n"
          ],
          "name": "stdout"
        }
      ]
    }
  ]
}
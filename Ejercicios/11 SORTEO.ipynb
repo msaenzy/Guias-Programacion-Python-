{
  "nbformat": 4,
  "nbformat_minor": 0,
  "metadata": {
    "colab": {
      "name": "SORTEO.ipynb",
      "provenance": [],
      "collapsed_sections": []
    },
    "kernelspec": {
      "name": "python3",
      "display_name": "Python 3"
    },
    "language_info": {
      "name": "python"
    }
  },
  "cells": [
    {
      "cell_type": "code",
      "metadata": {
        "id": "41srbJmF4gzs"
      },
      "source": [
        "num_dado=1\n",
        "num_dado2=7\n",
        "num_dado3=5\n",
        "intentos=1\n",
        "while intentos<=3:\n",
        "  print(\"ingrese su codigo (un numero del 1 al 10)\")\n",
        "  num=int(input())\n",
        "  print(\"ingrese su edad\")\n",
        "  edad=int(input())\n",
        "  if num==num_dado:\n",
        "    print(\"gano con el codigo:\",num)\n",
        "    if edad>18:\n",
        "      print('gano 100 efectivo')\n",
        "    elif edad>16 and edad<18:\n",
        "        print('100 mcdonalds')\n",
        "    else:\n",
        "          print('100 juguetes')\n",
        "  elif num==num_dado2:\n",
        "     print(\"gano con el codigo:\",num)\n",
        "     if edad>18:\n",
        "      print('gano 100 efectivo')\n",
        "     elif edad>16 and edad<18:\n",
        "        print('100 mcdonalds')\n",
        "     else:\n",
        "          print('100 juguetes')\n",
        "  elif num==num_dado3:\n",
        "     print(\"gano con el codigo:\",num)\n",
        "     if edad>18:\n",
        "      print('gano 100 efectivo')\n",
        "     elif edad>16 and edad<18:\n",
        "        print('100 mcdonalds')\n",
        "     else:\n",
        "          print('100 juguetes')\n",
        "  else:\n",
        "    print(\"Numero sin premio\")\n",
        "  intentos+=1       #intentos=intentos+1"
      ],
      "execution_count": null,
      "outputs": []
    }
  ]
}
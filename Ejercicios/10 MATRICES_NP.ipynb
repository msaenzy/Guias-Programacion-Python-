{
  "nbformat": 4,
  "nbformat_minor": 0,
  "metadata": {
    "colab": {
      "name": "25-28-21-MATRICES-NP.ipynb",
      "provenance": [],
      "collapsed_sections": []
    },
    "kernelspec": {
      "name": "python3",
      "display_name": "Python 3"
    },
    "language_info": {
      "name": "python"
    }
  },
  "cells": [
    {
      "cell_type": "markdown",
      "metadata": {
        "id": "LDrb1R0XOyUY"
      },
      "source": [
        "25-8-2021"
      ]
    },
    {
      "cell_type": "code",
      "metadata": {
        "colab": {
          "base_uri": "https://localhost:8080/"
        },
        "id": "TUaIj9JgOxge",
        "outputId": "bddea5d9-ae53-484a-efb1-d4b9c7b6a85b"
      },
      "source": [
        "#CNOOCER DIMENSIONES MATRIZ\n",
        "import numpy as np\n",
        "\n",
        "a=np.array([(1,2,3),(4,5,6)])\n",
        "print(a)\n",
        "print('dimensiones: ', a.ndim)\n",
        "print('tipo de dato de la matriz:', a.dtype)\n",
        "print('tamano de la matriz: ', a.size)\n",
        "print('forma matriz', a.shape)\n",
        "b=np.max(a)  #revisar si es cubo cuadrado o alargado, este es alargado\n",
        "print('maximo', b)\n",
        "print('minimo', np.min(a))\n",
        "print(np.mean(a))"
      ],
      "execution_count": null,
      "outputs": [
        {
          "output_type": "stream",
          "text": [
            "[[1 2 3]\n",
            " [4 5 6]]\n",
            "dimensiones:  2\n",
            "tipo de dato de la matriz: int64\n",
            "tamano de la matriz:  6\n",
            "forma matriz (2, 3)\n",
            "maximo 6\n",
            "minimo 1\n",
            "3.5\n"
          ],
          "name": "stdout"
        }
      ]
    },
    {
      "cell_type": "code",
      "metadata": {
        "colab": {
          "base_uri": "https://localhost:8080/"
        },
        "id": "OxBsKXNRSuUn",
        "outputId": "6a883fe5-5d9d-4f8a-b66a-8bd65b4b20b9"
      },
      "source": [
        "#cambiar forma de la matriz\n",
        "b=np.array([(9,9,10),(11,12,13)])\n",
        "print(b)\n",
        "print('forma de la matriz', b.shape)\n",
        "c=b.reshape(3,2)\n",
        "print(c)\n"
      ],
      "execution_count": null,
      "outputs": [
        {
          "output_type": "stream",
          "text": [
            "[[ 9  9 10]\n",
            " [11 12 13]]\n",
            "forma de la matriz (2, 3)\n",
            "[[ 9  9]\n",
            " [10 11]\n",
            " [12 13]]\n"
          ],
          "name": "stdout"
        }
      ]
    },
    {
      "cell_type": "code",
      "metadata": {
        "colab": {
          "base_uri": "https://localhost:8080/"
        },
        "id": "UDT_CRprTMp9",
        "outputId": "2086c19c-5a00-4a8a-9a9b-1d441b0a99f6"
      },
      "source": [
        "b=np.array([(8,9,10),(11,12,13)])\n",
        "print(b)\n",
        "print(b[0,2])\n",
        "print(b[0:,2])\n",
        "print(b[0,0:])\n",
        "print(b[1,0:2])\n"
      ],
      "execution_count": null,
      "outputs": [
        {
          "output_type": "stream",
          "text": [
            "[[ 8  9 10]\n",
            " [11 12 13]]\n",
            "10\n",
            "[10 13]\n",
            "[ 8  9 10]\n",
            "[11 12]\n"
          ],
          "name": "stdout"
        }
      ]
    },
    {
      "cell_type": "code",
      "metadata": {
        "colab": {
          "base_uri": "https://localhost:8080/"
        },
        "id": "AurTBKTgTy1p",
        "outputId": "3b197d6d-95ea-4894-929b-b84854df8043"
      },
      "source": [
        "ceros=np.zeros((4,6))\n",
        "print(ceros)"
      ],
      "execution_count": null,
      "outputs": [
        {
          "output_type": "stream",
          "text": [
            "[[0. 0. 0. 0. 0. 0.]\n",
            " [0. 0. 0. 0. 0. 0.]\n",
            " [0. 0. 0. 0. 0. 0.]\n",
            " [0. 0. 0. 0. 0. 0.]]\n"
          ],
          "name": "stdout"
        }
      ]
    },
    {
      "cell_type": "code",
      "metadata": {
        "colab": {
          "base_uri": "https://localhost:8080/"
        },
        "id": "CttsfTEoT32P",
        "outputId": "33cfb885-4bce-45f9-c452-943185d5c9b1"
      },
      "source": [
        "import numpy as np\n",
        "estaturas=np.array([1.7,1.65,1.8,1.5,1.68])\n",
        "print(estaturas)\n",
        "print('dimensiones: ', estaturas.ndim)\n",
        "print('tipo de dato de la matriz:', estaturas.dtype)\n",
        "print('tamano de la matriz: ', estaturas.size)\n",
        "print('forma matriz', estaturas.shape)\n",
        "print('promedio de las estaturas es: ', estaturas.mean())  #promedio \n",
        "print('la estatura maxima es: ', estaturas.max())\n",
        "print('la estatura minima es: ', estaturas.min())\n"
      ],
      "execution_count": null,
      "outputs": [
        {
          "output_type": "stream",
          "text": [
            "[1.7  1.65 1.8  1.5  1.68]\n",
            "dimensiones:  1\n",
            "tipo de dato de la matriz: float64\n",
            "tamano de la matriz:  5\n",
            "forma matriz (5,)\n",
            "promedio de las estaturas es:  1.666\n",
            "la estatura maxima es:  1.8\n",
            "la estatura minima es:  1.5\n"
          ],
          "name": "stdout"
        }
      ]
    },
    {
      "cell_type": "markdown",
      "metadata": {
        "id": "Z3Qfgyg1Vg0I"
      },
      "source": [
        "crear una matriz identidad, una matriz con valores que el usuario ingrese, y otra linea del valor 7. Luego realizar la suma de las 3 matrices. De la matriz resultante obtener el maximo, minimo y promedio"
      ]
    },
    {
      "cell_type": "code",
      "metadata": {
        "colab": {
          "base_uri": "https://localhost:8080/"
        },
        "id": "rjvpbm4nVTDN",
        "outputId": "e616e45e-e48b-4e80-b5c0-55f1464e15a3"
      },
      "source": [
        "#lea una matriz n x m. Para cada fila muestre el producto de los elementos. cuyo valor es un numero par\n",
        "matriz1=[]\n",
        "filas=3\n",
        "columnas=3\n",
        "\n",
        "#matriz identidad\n",
        "identidad1=np.eye(3,3)\n",
        "print('la matriz identidad es: ')\n",
        "print(identidad1)\n",
        "\n",
        "#llena de 7\n",
        "completa=np.full((3,3),7)  #matriz 4x5 llena de el numero 7\n",
        "print('la matriz de 7: ')\n",
        "print(completa)\n",
        "\n",
        "print('ingrese la matriz de 3x3 que desee:')\n",
        "#se llena de 0 cada elemento de la matriz (encerar)\n",
        "for i in range(filas):\n",
        "    matriz1.append([0]*columnas)\n",
        "print(matriz1)\n",
        "\n",
        "#se pide cada elemento de la matriz\n",
        "for f in range(filas):\n",
        "  for c in range(columnas):\n",
        "    matriz1[f][c]=int(input('ingrese el elemento '))\n",
        "\n",
        "print(matriz1)\n",
        "\n",
        "RES=completa+identidad1+matriz1\n",
        "print('la suma de matrices: ')\n",
        "print(RES)\n",
        "\n",
        "#PROMEDio, max y min\n",
        "print('promedio es: ', RES.mean())  #promedio \n",
        "print('maxima es: ', RES.max())\n",
        "print('minima es: ', RES.min())\n"
      ],
      "execution_count": null,
      "outputs": [
        {
          "output_type": "stream",
          "text": [
            "la matriz identidad es: \n",
            "[[1. 0. 0.]\n",
            " [0. 1. 0.]\n",
            " [0. 0. 1.]]\n",
            "la matriz de 7: \n",
            "[[7 7 7]\n",
            " [7 7 7]\n",
            " [7 7 7]]\n",
            "ingrese la matriz de 3x3 que desee:\n",
            "[[0, 0, 0], [0, 0, 0], [0, 0, 0]]\n",
            "ingrese el elemento 5\n",
            "ingrese el elemento 4\n",
            "ingrese el elemento 7\n",
            "ingrese el elemento 7\n",
            "ingrese el elemento 9\n",
            "ingrese el elemento 7\n",
            "ingrese el elemento 2\n",
            "ingrese el elemento 3\n",
            "ingrese el elemento 5\n",
            "[[5, 4, 7], [7, 9, 7], [2, 3, 5]]\n",
            "la suma de matrices: \n",
            "[[13. 11. 14.]\n",
            " [14. 17. 14.]\n",
            " [ 9. 10. 13.]]\n",
            "promedio es:  12.777777777777779\n",
            "maxima es:  17.0\n",
            "minima es:  9.0\n"
          ],
          "name": "stdout"
        }
      ]
    }
  ]
}
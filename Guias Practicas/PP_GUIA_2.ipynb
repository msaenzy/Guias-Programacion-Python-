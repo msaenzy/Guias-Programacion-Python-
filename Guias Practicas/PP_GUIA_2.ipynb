{
  "nbformat": 4,
  "nbformat_minor": 0,
  "metadata": {
    "colab": {
      "name": "PP GUIA 2.ipynb",
      "provenance": [],
      "collapsed_sections": []
    },
    "kernelspec": {
      "name": "python3",
      "display_name": "Python 3"
    },
    "language_info": {
      "name": "python"
    }
  },
  "cells": [
    {
      "cell_type": "markdown",
      "metadata": {
        "id": "wBZ1oCBiMSgK"
      },
      "source": [
        "***AREA DEL CIRCULO Y PERIMETRO***"
      ]
    },
    {
      "cell_type": "code",
      "metadata": {
        "colab": {
          "base_uri": "https://localhost:8080/"
        },
        "id": "LF-a9KylL_Co",
        "outputId": "b41456db-5cce-4d7c-b21f-e3a4622198bb"
      },
      "source": [
        "import math\n",
        "print (\"ingrese el radio del circulo\")\n",
        "r=float(input())\n",
        "area=(math.pi*r*r)\n",
        "perimetro=(2*math.pi*r)\n",
        "print (\"el radio ingresado es \", r , \",el area es \", area , \",el perimetro es \" , perimetro )\n"
      ],
      "execution_count": null,
      "outputs": [
        {
          "output_type": "stream",
          "text": [
            "ingrese el radio del circulo\n",
            "5\n",
            "el radio ingresado es  5.0 ,el area es  78.53981633974483 ,el perimetro es  31.41592653589793\n"
          ],
          "name": "stdout"
        }
      ]
    },
    {
      "cell_type": "markdown",
      "metadata": {
        "id": "XshmJn4IPOzp"
      },
      "source": [
        "***INGRESE DOS NUMEROS Y MOSTRAR LA SUMA***\n",
        "\n"
      ]
    },
    {
      "cell_type": "code",
      "metadata": {
        "colab": {
          "base_uri": "https://localhost:8080/"
        },
        "id": "1ueqknUnPVPC",
        "outputId": "96e54d65-a31b-4285-eb70-b42e77831ad9"
      },
      "source": [
        "import math\n",
        "print (\"ingrese un numero\")\n",
        "n1=float(input())\n",
        "print (\"ingrese otro numero\")\n",
        "n2=float(input())\n",
        "suma=(n1+n2)\n",
        "print (\"los numeros ingresados son \", n1 , \"y\" ,n2 ,\", la suma es \", suma)"
      ],
      "execution_count": null,
      "outputs": [
        {
          "output_type": "stream",
          "text": [
            "ingrese un numero\n",
            "12\n",
            "ingrese otro numero\n",
            "8\n",
            "los numeros ingresados son  12.0 y 8.0 , la suma es  20.0\n"
          ],
          "name": "stdout"
        }
      ]
    },
    {
      "cell_type": "markdown",
      "metadata": {
        "id": "e4sZlsOyQmnA"
      },
      "source": [
        "***INGRESE DOS NUMEROS Y MOSTRAR LA RESTA***"
      ]
    },
    {
      "cell_type": "code",
      "metadata": {
        "colab": {
          "base_uri": "https://localhost:8080/"
        },
        "id": "hUzyEa5OQrVj",
        "outputId": "456a05ac-c144-41d6-ea9e-cbbe1d7e3551"
      },
      "source": [
        "import math\n",
        "print (\"ingrese un numero\")\n",
        "n1=float(input())\n",
        "print (\"ingrese otro numero\")\n",
        "n2=float(input())\n",
        "resta=(n1-n2)\n",
        "print (\"los numeros ingresados son \", n1 , \"y\" ,n2 ,\", la resta es \", resta)"
      ],
      "execution_count": null,
      "outputs": [
        {
          "output_type": "stream",
          "text": [
            "ingrese un numero\n",
            "12\n",
            "ingrese otro numero\n",
            "6\n",
            "los numeros ingresados son  12.0 y 6.0 , la resta es  6.0\n"
          ],
          "name": "stdout"
        }
      ]
    },
    {
      "cell_type": "markdown",
      "metadata": {
        "id": "QmOnqsE-RDdT"
      },
      "source": [
        "***INGRESE DOS NUMEROS Y MOSTRAR LA DIVISION***"
      ]
    },
    {
      "cell_type": "code",
      "metadata": {
        "colab": {
          "base_uri": "https://localhost:8080/"
        },
        "id": "Cbd9XzKfRIi_",
        "outputId": "57630bac-1c77-4b72-abb9-0b1cb1fa915a"
      },
      "source": [
        "import math\n",
        "print (\"ingrese un numero\")\n",
        "n1=float(input())\n",
        "print (\"ingrese otro numero\")\n",
        "n2=float(input())\n",
        "division=(n1/n2)\n",
        "print (\"los numeros ingresados son \", n1 , \"y\" ,n2 ,\", la division es \", division)"
      ],
      "execution_count": null,
      "outputs": [
        {
          "output_type": "stream",
          "text": [
            "ingrese un numero\n",
            "5\n",
            "ingrese otro numero\n",
            "50\n",
            "los numeros ingresados son  5.0 y 50.0 , la division es  0.1\n"
          ],
          "name": "stdout"
        }
      ]
    },
    {
      "cell_type": "markdown",
      "metadata": {
        "id": "d-ViU7r0SKXD"
      },
      "source": [
        "***AREA E HIPOTENUSA DE TRIANGULO***"
      ]
    },
    {
      "cell_type": "code",
      "metadata": {
        "colab": {
          "base_uri": "https://localhost:8080/"
        },
        "id": "z-oOI5LySXzG",
        "outputId": "58626769-a36b-49f4-ad60-e1817cbb97ad"
      },
      "source": [
        "import math\n",
        "print (\"ingrese la base\")\n",
        "base=float(input())\n",
        "print (\"ingrese un lado\")\n",
        "lado=float(input())\n",
        "area=(lado*base/2)\n",
        "hipotenusa= math.sqrt(lado*lado+base*base)\n",
        "print (\"el lado ingresado es \", lado , \", la base ingresada es, \" , base , \"el area es \" , area , \"la hipotenusa es \" , hipotenusa)"
      ],
      "execution_count": null,
      "outputs": [
        {
          "output_type": "stream",
          "text": [
            "ingrese la base\n",
            "5\n",
            "ingrese un lado\n",
            "4\n",
            "el lado ingresado es  4.0 , la base ingresada es,  5.0 el area es  10.0 la hipotenusa es  6.4031242374328485\n"
          ],
          "name": "stdout"
        }
      ]
    },
    {
      "cell_type": "markdown",
      "metadata": {
        "id": "tFBvSfQyUsNk"
      },
      "source": [
        "***SUMA, MULTIPLICACION Y DIVISION DE DOS NUMEROS***"
      ]
    },
    {
      "cell_type": "code",
      "metadata": {
        "colab": {
          "base_uri": "https://localhost:8080/"
        },
        "id": "XNJWR2VLU1om",
        "outputId": "f266b637-5069-4bf6-916a-455ceaa1baab"
      },
      "source": [
        "import math\n",
        "print (\"ingrese un numero\")\n",
        "n1=float(input())\n",
        "print (\"ingrese otro numero\")\n",
        "n2=float(input())\n",
        "suma=(n1+n2)\n",
        "multiplicacion=(n1*n2)\n",
        "division=(n1/n2)\n",
        "print (\"los numeros ingresados son \", n1 , \"y\" ,n2 ,\", la suma es \", suma , \", la multiplicacion es \" , multiplicacion , \", la division es\" , division)"
      ],
      "execution_count": null,
      "outputs": [
        {
          "output_type": "stream",
          "text": [
            "ingrese un numero\n",
            "20\n",
            "ingrese otro numero\n",
            "5\n",
            "los numeros ingresados son  20.0 y 5.0 , la suma es  25.0 , la multiplicacion es  100.0 , la division es 4.0\n"
          ],
          "name": "stdout"
        }
      ]
    },
    {
      "cell_type": "markdown",
      "metadata": {
        "id": "Jl06pwAgWTtu"
      },
      "source": [
        "**dada una resistencia y una corriente calcular el voltaje**"
      ]
    },
    {
      "cell_type": "code",
      "metadata": {
        "colab": {
          "base_uri": "https://localhost:8080/"
        },
        "id": "LfvWvlt4Wa9d",
        "outputId": "f1ac2058-31b3-4ed0-ae2e-7ee05fdf204f"
      },
      "source": [
        "import math\n",
        "print (\"ingrese la resistencia\")\n",
        "r=float(input())\n",
        "print (\"ingrese la corriente\")\n",
        "c=float(input())\n",
        "voltaje=(c*r)\n",
        "p=(voltaje*c)\n",
        "print (\"la resistencia ingresada es  \", r , \"la corriente ingresada es \" ,c ,\", el voltaje es \", voltaje , \", la potencia es \" , p)"
      ],
      "execution_count": null,
      "outputs": [
        {
          "output_type": "stream",
          "text": [
            "ingrese la resistencia\n",
            "8\n",
            "ingrese la corriente\n",
            "6\n",
            "la resistencia ingresada es   8.0 la corriente ingresada es  6.0 , el voltaje es  48.0 , la potencia es  288.0\n"
          ],
          "name": "stdout"
        }
      ]
    },
    {
      "cell_type": "markdown",
      "metadata": {
        "id": "oAtxesOGZRcV"
      },
      "source": [
        "***AREA Y PERIMETRO DE UN RECTANGULO***"
      ]
    },
    {
      "cell_type": "code",
      "metadata": {
        "colab": {
          "base_uri": "https://localhost:8080/"
        },
        "id": "jhqQktdYZQKQ",
        "outputId": "9aa2542c-cbf7-4ddc-d138-43f8b215a2f5"
      },
      "source": [
        "import math\n",
        "print (\"ingrese la base\")\n",
        "b=float(input())\n",
        "print (\"ingrese la altura\")\n",
        "h=float(input())\n",
        "perimetro=((b+h)*2)\n",
        "area=(b*h)\n",
        "print (\"la base ingresada es  \", b , \"la altura ingresada es \" ,h ,\", el perimetro es \", perimetro , \", el area es \" , area)"
      ],
      "execution_count": null,
      "outputs": [
        {
          "output_type": "stream",
          "text": [
            "ingrese la base\n",
            "3\n",
            "ingrese la altura\n",
            "5\n",
            "la base ingresada es   3.0 la altura ingresada es  5.0 , el perimetro es  16.0 , el area es  15.0\n"
          ],
          "name": "stdout"
        }
      ]
    },
    {
      "cell_type": "markdown",
      "metadata": {
        "id": "7hPEv3GUafjn"
      },
      "source": [
        "**AREA Y PERIMETRO DE UN ROMBO**"
      ]
    },
    {
      "cell_type": "code",
      "metadata": {
        "colab": {
          "base_uri": "https://localhost:8080/"
        },
        "id": "SyhqI4vIakjS",
        "outputId": "6f2f52c9-652e-4d8d-cdb2-01035548d83b"
      },
      "source": [
        "import math\n",
        "print (\"ingrese la primera diagonal\")\n",
        "d1=float(input())\n",
        "print (\"ingrese la segunda diagonal\")\n",
        "d2=float(input())\n",
        "print (\"ingrese un lado\")\n",
        "l=float(input())\n",
        "perimetro=((d1*d2)/2)\n",
        "area=(4*l)\n",
        "print (\"la primera diagonal ingresada es  \", d1 , \"la segunda diagonal ingresada es \" ,d2 ,\"el lado ingresado es \" , l , \", el perimetro es \", perimetro , \", el area es \" , area)"
      ],
      "execution_count": null,
      "outputs": [
        {
          "output_type": "stream",
          "text": [
            "ingrese la primera diagonal\n",
            "6\n",
            "ingrese la segunda diagonal\n",
            "3\n",
            "ingrese un lado\n",
            "2\n",
            "la primera diagonal ingresada es   6.0 la segunda diagonal ingresada es  3.0 el lado ingresado es  2.0 , el perimetro es  9.0 , el area es  8.0\n"
          ],
          "name": "stdout"
        }
      ]
    },
    {
      "cell_type": "markdown",
      "metadata": {
        "id": "n_ZqnEzbbcoH"
      },
      "source": [
        "**AREA Y PERIMETRO DE UN PARALELOGRAMO**"
      ]
    },
    {
      "cell_type": "code",
      "metadata": {
        "colab": {
          "base_uri": "https://localhost:8080/"
        },
        "id": "J_tDoYsbbhRy",
        "outputId": "25b87967-bb08-4f77-e8f3-c8fe4a5e2351"
      },
      "source": [
        "import math\n",
        "print (\"ingrese la base\")\n",
        "b=float(input())\n",
        "print (\"ingrese la altura\")\n",
        "h=float(input())\n",
        "print (\"ingrese un lado\")\n",
        "l=float(input())\n",
        "perimetro=((l+b)*2)\n",
        "area=(b*h)\n",
        "print (\"la base ingresada es  \", b , \"la altura ingresada es \" ,h ,\"el lado ingresado es \" , l ,\", el perimetro es \", perimetro , \", el area es \" , area)"
      ],
      "execution_count": null,
      "outputs": [
        {
          "output_type": "stream",
          "text": [
            "ingrese la base\n",
            "5\n",
            "ingrese la altura\n",
            "3\n",
            "ingrese un lado\n",
            "2\n",
            "la base ingresada es   5.0 la altura ingresada es  3.0 el lado ingresado es  2.0 , el perimetro es  14.0 , el area es  15.0\n"
          ],
          "name": "stdout"
        }
      ]
    },
    {
      "cell_type": "markdown",
      "metadata": {
        "id": "sP-jlntlnXE7"
      },
      "source": [
        "***-----------------------------SECCION 4------------------------------***"
      ]
    },
    {
      "cell_type": "markdown",
      "metadata": {
        "id": "ymkWkP_sq6C5"
      },
      "source": [
        "***mayor o menor de edad***\n",
        "\n"
      ]
    },
    {
      "cell_type": "code",
      "metadata": {
        "colab": {
          "base_uri": "https://localhost:8080/"
        },
        "id": "JakJ-mfZpoN0",
        "outputId": "bbb531d9-0938-4e8f-8dab-22ae04a7061b"
      },
      "source": [
        "print(\"ingrese su edad\")\n",
        "edad=float(input())\n",
        "if edad>=18:\n",
        "  print (\"es mayor de edad\")\n",
        "else:\n",
        "  print (\"es menor de edad\")"
      ],
      "execution_count": null,
      "outputs": [
        {
          "output_type": "stream",
          "text": [
            "ingrese su edad\n",
            "22\n",
            "es mayor de edad\n"
          ],
          "name": "stdout"
        }
      ]
    },
    {
      "cell_type": "markdown",
      "metadata": {
        "id": "xqBC9SWksOrQ"
      },
      "source": [
        "***MAYOR DE EDAD O MENOR Y NOMBRE***\n"
      ]
    },
    {
      "cell_type": "code",
      "metadata": {
        "colab": {
          "base_uri": "https://localhost:8080/"
        },
        "id": "uyeO3fHdvIkB",
        "outputId": "264e0839-2156-4170-b918-854c0e966767"
      },
      "source": [
        "\n",
        "print(\"ingrese su edad\")\n",
        "edad=float(input())\n",
        "nom=input(\"ingrese su nombre \")\n",
        "if edad>=18:\n",
        "  print (nom, \" con \" , edad , \" años, es mayor de edad\")\n",
        "else:\n",
        "  print (nom, \" con \" , edad , \" años, es menor de edad\")\n"
      ],
      "execution_count": null,
      "outputs": [
        {
          "output_type": "stream",
          "text": [
            "ingrese su edad\n",
            "42\n",
            "ingrese su nombre Dean\n",
            "Dean  con  42.0  años, es mayor de edad\n"
          ],
          "name": "stdout"
        }
      ]
    },
    {
      "cell_type": "markdown",
      "metadata": {
        "id": "b9k9ksEaw-IK"
      },
      "source": [
        "***ingrese un valor real X, determine que pertenece al intervalo 𝑥 ≤ 22*** "
      ]
    },
    {
      "cell_type": "code",
      "metadata": {
        "colab": {
          "base_uri": "https://localhost:8080/"
        },
        "id": "Lxy4leICxEmy",
        "outputId": "761d0df1-27c0-4959-cd82-6692c284854c"
      },
      "source": [
        "print(\"ingrese un valor\")\n",
        "x=float(input())\n",
        "if x<=22:\n",
        "  print (\"pertenece al intervalo\")\n",
        "else:\n",
        "  print (\" no pertenece al intervalo\")"
      ],
      "execution_count": null,
      "outputs": [
        {
          "output_type": "stream",
          "text": [
            "ingrese un valor\n",
            "29\n",
            " no pertenece al intervalo\n"
          ],
          "name": "stdout"
        }
      ]
    },
    {
      "cell_type": "markdown",
      "metadata": {
        "id": "PYPWVqZgxsbw"
      },
      "source": [
        "***ingrese un valor real X, determine que pertenece al intervalo 𝑥 < 22***"
      ]
    },
    {
      "cell_type": "code",
      "metadata": {
        "colab": {
          "base_uri": "https://localhost:8080/"
        },
        "id": "eNxs7o33xu2X",
        "outputId": "59fb8c03-c9a1-47ff-d33d-0740397f1fb1"
      },
      "source": [
        "print(\"ingrese un valor\")\n",
        "x=float(input())\n",
        "if x<22:\n",
        "  print (\"pertenece al intervalo\")\n",
        "else:\n",
        "  print (\" no pertenece al intervalo\")"
      ],
      "execution_count": null,
      "outputs": [
        {
          "output_type": "stream",
          "text": [
            "ingrese un valor\n",
            "15\n",
            "pertenece al intervalo\n"
          ],
          "name": "stdout"
        }
      ]
    },
    {
      "cell_type": "markdown",
      "metadata": {
        "id": "kXGka1U8x_I5"
      },
      "source": [
        "***ingrese un valor real X, determine que pertenece al intervalo 𝑥 >= −13***"
      ]
    },
    {
      "cell_type": "code",
      "metadata": {
        "colab": {
          "base_uri": "https://localhost:8080/"
        },
        "id": "HD1Hg0R1yBlP",
        "outputId": "e9196249-9e32-4dca-d216-01aa344888cf"
      },
      "source": [
        "print(\"ingrese un valor\")\n",
        "x=float(input())\n",
        "if x>=-13:\n",
        "  print (\"pertenece al intervalo\")\n",
        "else:\n",
        "  print (\"no pertenece al intervalo\")"
      ],
      "execution_count": null,
      "outputs": [
        {
          "output_type": "stream",
          "text": [
            "ingrese un valor\n",
            "-12\n",
            "pertenece al intervalo\n"
          ],
          "name": "stdout"
        }
      ]
    },
    {
      "cell_type": "markdown",
      "metadata": {
        "id": "ZE-b25iDylgo"
      },
      "source": [
        "***ingrese un valor real X, determine que pertenece al intervalo 𝑥 > −13***"
      ]
    },
    {
      "cell_type": "code",
      "metadata": {
        "colab": {
          "base_uri": "https://localhost:8080/"
        },
        "id": "yyTIhOiSypVB",
        "outputId": "e5ea19ae-1666-43a6-c57c-8818f009370a"
      },
      "source": [
        "print(\"ingrese un valor\")\n",
        "x=float(input())\n",
        "if x>-13:\n",
        "  print (\"pertenece al intervalo\")\n",
        "else:\n",
        "  print (\"no pertenece al intervalo\")"
      ],
      "execution_count": null,
      "outputs": [
        {
          "output_type": "stream",
          "text": [
            "ingrese un valor\n",
            "5\n",
            "pertenece al intervalo\n"
          ],
          "name": "stdout"
        }
      ]
    },
    {
      "cell_type": "markdown",
      "metadata": {
        "id": "YSl27_Fgziad"
      },
      "source": [
        "***DENTRO DE INTERVALOS 𝑥 ≥ 18  𝖴  𝑥 < 11 . ***"
      ]
    },
    {
      "cell_type": "code",
      "metadata": {
        "colab": {
          "base_uri": "https://localhost:8080/"
        },
        "id": "PMu8OtHJznBM",
        "outputId": "17b54d73-1661-44a5-dd27-55a600d9016a"
      },
      "source": [
        "print(\"ingrese un valor\")\n",
        "x=float(input())\n",
        "if x>=18 or x<11 :\n",
        "    print (\"pertenece al intervalo\")\n",
        "else:\n",
        "    print (\"no pertenece al intervalo x<11\")\n"
      ],
      "execution_count": null,
      "outputs": [
        {
          "output_type": "stream",
          "text": [
            "ingrese un valor\n",
            "18\n",
            "pertenece al intervalo\n"
          ],
          "name": "stdout"
        }
      ]
    },
    {
      "cell_type": "markdown",
      "metadata": {
        "id": "7VgyLtx53DS0"
      },
      "source": [
        "***𝑥 ≥ −10 ∩ 𝑥 < 5 ***"
      ]
    },
    {
      "cell_type": "code",
      "metadata": {
        "colab": {
          "base_uri": "https://localhost:8080/"
        },
        "id": "TusOTtJp3Fpr",
        "outputId": "99416ca5-a723-4e6f-c633-1dee07ab7705"
      },
      "source": [
        "print(\"ingrese un valor\")\n",
        "x=float(input())\n",
        "if x>=-10 and x<5 :\n",
        "    print (\"pertenece al intervalo\")\n",
        "else:\n",
        "    print (\"no pertenece al intervalo x<11\")\n"
      ],
      "execution_count": null,
      "outputs": [
        {
          "output_type": "stream",
          "text": [
            "ingrese un valor\n",
            "-8\n",
            "pertenece al intervalo\n"
          ],
          "name": "stdout"
        }
      ]
    },
    {
      "cell_type": "markdown",
      "metadata": {
        "id": "oF-MFTgv5Cap"
      },
      "source": [
        "***𝑥 < 13 ∩ 𝑥 ≥ 9 ***"
      ]
    },
    {
      "cell_type": "code",
      "metadata": {
        "colab": {
          "base_uri": "https://localhost:8080/"
        },
        "id": "kQfbNhSR5IlI",
        "outputId": "7634edfd-49a9-446c-e6f7-5a1d13ed516b"
      },
      "source": [
        "print(\"ingrese un valor\")\n",
        "x=float(input())\n",
        "if x>=9 and x<13 :\n",
        "    print (\"pertenece al intervalo\")\n",
        "else:\n",
        "    print (\"no pertenece al intervalo x<11\")"
      ],
      "execution_count": null,
      "outputs": [
        {
          "output_type": "stream",
          "text": [
            "ingrese un valor\n",
            "12\n",
            "pertenece al intervalo\n"
          ],
          "name": "stdout"
        }
      ]
    },
    {
      "cell_type": "markdown",
      "metadata": {
        "id": "YGNBbHwT5Yr_"
      },
      "source": [
        "***𝑥 < 0  𝖴 𝑥 ≥ 3 ***"
      ]
    },
    {
      "cell_type": "code",
      "metadata": {
        "colab": {
          "base_uri": "https://localhost:8080/"
        },
        "id": "zeB4JF1k5adK",
        "outputId": "a16822d6-a3ad-4424-c7f1-37d64d6a769b"
      },
      "source": [
        "print(\"ingrese un valor\")\n",
        "x=float(input())\n",
        "if x>=3 or x<0 :\n",
        "    print (\"pertenece al intervalo\")\n",
        "else:\n",
        "    print (\"no pertenece al intervalo x<11\")"
      ],
      "execution_count": null,
      "outputs": [
        {
          "output_type": "stream",
          "text": [
            "ingrese un valor\n",
            "7\n",
            "pertenece al intervalo\n"
          ],
          "name": "stdout"
        }
      ]
    }
  ]
}